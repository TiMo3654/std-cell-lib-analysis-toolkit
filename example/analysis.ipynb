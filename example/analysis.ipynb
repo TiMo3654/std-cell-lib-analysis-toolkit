{
 "cells": [],
 "metadata": {
  "kernelspec": {
   "display_name": "orchard",
   "language": "python",
   "name": "python3"
  },
  "language_info": {
   "name": "python",
   "version": "3.11.11"
  }
 },
 "nbformat": 4,
 "nbformat_minor": 5
}
