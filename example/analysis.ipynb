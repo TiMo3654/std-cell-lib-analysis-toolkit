{
 "cells": [
  {
   "cell_type": "code",
   "execution_count": 5,
   "id": "2006da49",
   "metadata": {},
   "outputs": [],
   "source": [
    "import pandas as pd\n",
    "import numpy as np\n",
    "import os\n",
    "import matplotlib.pyplot as plt"
   ]
  },
  {
   "cell_type": "code",
   "execution_count": 6,
   "id": "41e23b7d",
   "metadata": {},
   "outputs": [
    {
     "data": {
      "application/vnd.microsoft.datawrangler.viewer.v0+json": {
       "columns": [
        {
         "name": "index",
         "rawType": "int64",
         "type": "integer"
        },
        {
         "name": "time",
         "rawType": "float64",
         "type": "float"
        },
        {
         "name": "vdd!",
         "rawType": "float64",
         "type": "float"
        },
        {
         "name": "A",
         "rawType": "float64",
         "type": "float"
        },
        {
         "name": "Q",
         "rawType": "float64",
         "type": "float"
        },
        {
         "name": "V0:p",
         "rawType": "float64",
         "type": "float"
        },
        {
         "name": "V1:p",
         "rawType": "float64",
         "type": "float"
        }
       ],
       "ref": "eddc4302-15c7-4556-9e6d-40453e15794e",
       "rows": [
        [
         "0",
         "0.0",
         "1.8",
         "0.0",
         "1.7999987204044205",
         "0.0",
         "-2.5057772407826243e-10"
        ],
        [
         "1",
         "1.2e-11",
         "1.8",
         "0.0",
         "1.7999987204044052",
         "-1.075799936599656e-18",
         "-2.5057766394824643e-10"
        ],
        [
         "2",
         "3.6000000000000005e-11",
         "1.8",
         "0.0",
         "1.7999987204043748",
         "-1.0824603603876973e-18",
         "-2.5057766960013623e-10"
        ],
        [
         "3",
         "8.400000000000002e-11",
         "1.8",
         "0.0",
         "1.7999987204043164",
         "-9.536786297694943e-19",
         "-2.505776809078915e-10"
        ],
        [
         "4",
         "1.8000000000000005e-10",
         "1.8",
         "0.0",
         "1.799998720404204",
         "-9.324532587884173e-19",
         "-2.5057770282860477e-10"
        ],
        [
         "5",
         "3.0000000000000005e-10",
         "1.8",
         "0.0",
         "1.7999987204040746",
         "-8.591813892563929e-19",
         "-2.505777279265952e-10"
        ],
        [
         "6",
         "4.2000000000000005e-10",
         "1.8",
         "0.0",
         "1.799998720403956",
         "-7.686162549026927e-19",
         "-2.5057775091868373e-10"
        ],
        [
         "7",
         "5.4e-10",
         "1.8",
         "0.0",
         "1.7999987204038466",
         "-7.205399865066997e-19",
         "-2.5057777219251466e-10"
        ],
        [
         "8",
         "6.6e-10",
         "1.8",
         "0.0",
         "1.799998720403746",
         "-6.507693930464651e-19",
         "-2.50577791747292e-10"
        ],
        [
         "9",
         "7.8e-10",
         "1.8",
         "0.0",
         "1.7999987204036538",
         "-6.153717379148503e-19",
         "-2.505778095752902e-10"
        ],
        [
         "10",
         "9e-10",
         "1.8",
         "0.0",
         "1.7999987204035697",
         "-5.446903965595971e-19",
         "-2.505778259098794e-10"
        ],
        [
         "11",
         "1e-09",
         "1.8",
         "0.0",
         "1.7999987204035053",
         "-5.112540759568246e-19",
         "-2.50577838457457e-10"
        ],
        [
         "12",
         "1.0018750000000001e-09",
         "1.8",
         "0.0003605672925402745",
         "1.799999830312508",
         "-3.4766491670053746e-07",
         "1.4090259025161264e-07"
        ],
        [
         "13",
         "1.0042259409074586e-09",
         "1.8",
         "0.0008126592380999748",
         "1.8000012259012592",
         "-3.4809926873078513e-07",
         "1.4066032858756276e-07"
        ],
        [
         "14",
         "1.0089278227223754e-09",
         "1.8",
         "0.0017168431292193754",
         "1.8000040107703101",
         "-3.4794491117451383e-07",
         "1.4133340633827847e-07"
        ],
        [
         "15",
         "1.0183315863522092e-09",
         "1.8",
         "0.0035252109114581767",
         "1.8000095520393018",
         "-3.479467472157206e-07",
         "1.4242372326003602e-07"
        ],
        [
         "16",
         "1.0371391136118767e-09",
         "1.8",
         "0.007141946475935778",
         "1.8000205209280893",
         "-3.4795114919969376e-07",
         "1.445378491813768e-07"
        ],
        [
         "17",
         "1.0636143339168357e-09",
         "1.8",
         "0.012233199011811028",
         "1.8000357086976655",
         "-3.4795727775902566e-07",
         "1.474534988357064e-07"
        ],
        [
         "18",
         "1.104542592265576e-09",
         "1.8",
         "0.020103807705781025",
         "1.8000586200579107",
         "-3.4796703104853826e-07",
         "1.5182515092913316e-07"
        ],
        [
         "19",
         "1.1536138443559816e-09",
         "1.8",
         "0.02954033490994008",
         "1.8000852105489107",
         "-3.4797935058635283e-07",
         "1.568563141517948e-07"
        ],
        [
         "20",
         "1.2070616702725942e-09",
         "1.8",
         "0.03981848844749547",
         "1.8001131233145897",
         "-3.479937375460647e-07",
         "1.6208524854694933e-07"
        ],
        [
         "21",
         "1.2648284727614923e-09",
         "1.8",
         "0.0509271922192982",
         "1.8001421140689138",
         "-3.4801061084545407e-07",
         "1.6745501750712767e-07"
        ],
        [
         "22",
         "1.3261987777550293e-09",
         "1.8",
         "0.06272885873337279",
         "1.8001716343799978",
         "-3.480304095972294e-07",
         "1.7285368960293902e-07"
        ],
        [
         "23",
         "1.3905433199624588e-09",
         "1.8",
         "0.07510247866589306",
         "1.8002012376785121",
         "-3.4805377510346177e-07",
         "1.7819134103585218e-07"
        ],
        [
         "24",
         "1.4577787051327042e-09",
         "1.8",
         "0.08803201508921955",
         "1.8002307684774945",
         "-3.480817373584372e-07",
         "1.8343290010803707e-07"
        ],
        [
         "25",
         "1.5278857814949919e-09",
         "1.8",
         "0.10151378506888013",
         "1.8002601079280562",
         "-3.481156577960463e-07",
         "1.8855039420895358e-07"
        ],
        [
         "26",
         "1.6008256857765746e-09",
         "1.8",
         "0.11554031509819013",
         "1.8002891327757997",
         "-3.4815725113383925e-07",
         "1.9351552177258596e-07"
        ],
        [
         "27",
         "1.6765891272575875e-09",
         "1.8",
         "0.13010981854797227",
         "1.8003177326233686",
         "-3.482086544055571e-07",
         "1.9830262523514361e-07"
        ],
        [
         "28",
         "1.7551451694907426e-09",
         "1.8",
         "0.14521634626033883",
         "1.8003457847642752",
         "-3.482724515190434e-07",
         "2.0288434129769227e-07"
        ],
        [
         "29",
         "1.8363951782851682e-09",
         "1.8",
         "0.1608409306282741",
         "1.800373134856222",
         "-3.483516624083452e-07",
         "2.0722865641973765e-07"
        ],
        [
         "30",
         "1.920143821843695e-09",
         "1.8",
         "0.17694600884791012",
         "1.8003995856778745",
         "-3.484496844635916e-07",
         "2.112976263367213e-07"
        ],
        [
         "31",
         "2.0060576825930247e-09",
         "1.8",
         "0.19346746386767918",
         "1.8004248827871867",
         "-3.4857013692747844e-07",
         "2.1504590823561928e-07"
        ],
        [
         "32",
         "2.093619915096639e-09",
         "1.8",
         "0.21030590498907076",
         "1.8004487016971733",
         "-3.487165668233926e-07",
         "2.1841993628542853e-07"
        ],
        [
         "33",
         "2.1820978208986266e-09",
         "1.8",
         "0.2273204324262202",
         "1.800470643734702",
         "-3.488919972849223e-07",
         "2.213588104841136e-07"
        ],
        [
         "34",
         "2.2705416770200656e-09",
         "1.8",
         "0.2443284120227684",
         "1.8004902478448777",
         "-3.4909835154221175e-07",
         "2.237977518539337e-07"
        ],
        [
         "35",
         "2.3578368798864707e-09",
         "1.8",
         "0.26111550266239114",
         "1.8005070250565185",
         "-3.493358847280316e-07",
         "2.256746037891305e-07"
        ],
        [
         "36",
         "2.4428177410055835e-09",
         "1.8",
         "0.27745753946850243",
         "1.8005205143735332",
         "-3.4960284673261696e-07",
         "2.269384689875083e-07"
        ],
        [
         "37",
         "2.52441907212157e-09",
         "1.8",
         "0.29314968401686126",
         "1.800530345620005",
         "-3.49895580108626e-07",
         "2.2755781686229132e-07"
        ],
        [
         "38",
         "2.601814062759731e-09",
         "1.8",
         "0.30803293853983765",
         "1.8005362867382626",
         "-3.502090798498213e-07",
         "2.2752489449305124e-07"
        ],
        [
         "39",
         "2.674493544362261e-09",
         "1.8",
         "0.3220093886223198",
         "1.8005382590155992",
         "-3.5053782730948934e-07",
         "2.268548192799143e-07"
        ],
        [
         "40",
         "2.7423195660869097e-09",
         "1.8",
         "0.3350525059647378",
         "1.800536315505334",
         "-3.508768474282708e-07",
         "2.2557892203394603e-07"
        ],
        [
         "41",
         "2.805408085682431e-09",
         "1.8",
         "0.34718458953856735",
         "1.8005305928317226",
         "-3.512220364896868e-07",
         "2.2373674977647524e-07"
        ],
        [
         "42",
         "2.864033459625739e-09",
         "1.8",
         "0.3584583987955802",
         "1.8005212710273533",
         "-3.515702644622294e-07",
         "2.2137006473866612e-07"
        ],
        [
         "43",
         "2.9185603835835904e-09",
         "1.8",
         "0.36894406564466353",
         "1.8005085412900228",
         "-3.519193511708102e-07",
         "2.185184235303265e-07"
        ],
        [
         "44",
         "2.9693855069026465e-09",
         "1.8",
         "0.37871786676902475",
         "1.800492584862706",
         "-3.522678962054536e-07",
         "2.1521683331435573e-07"
        ],
        [
         "45",
         "3.0168991608398023e-09",
         "1.8",
         "0.38785486386705953",
         "1.800473562345385",
         "-3.52615079006752e-07",
         "2.1149498786945394e-07"
        ],
        [
         "46",
         "3.06146530769924e-09",
         "1.8",
         "0.3964250478201577",
         "1.8004516096285892",
         "-3.529604896069028e-07",
         "2.0737733807150697e-07"
        ],
        [
         "47",
         "3.1034121830182157e-09",
         "1.8",
         "0.4044915391611109",
         "1.8004268380593218",
         "-3.533039925231521e-07",
         "2.0288364387406072e-07"
        ],
        [
         "48",
         "3.1430296627083976e-09",
         "1.8",
         "0.4121100817686617",
         "1.8003993368713191",
         "-3.5364562524864976e-07",
         "1.9802972027872196e-07"
        ],
        [
         "49",
         "3.1805706989713886e-09",
         "1.8",
         "0.4193293189977297",
         "1.8003691763657872",
         "-3.539855285688785e-07",
         "1.9282817198379038e-07"
        ]
       ],
       "shape": {
        "columns": 6,
        "rows": 233
       }
      },
      "text/html": [
       "<div>\n",
       "<style scoped>\n",
       "    .dataframe tbody tr th:only-of-type {\n",
       "        vertical-align: middle;\n",
       "    }\n",
       "\n",
       "    .dataframe tbody tr th {\n",
       "        vertical-align: top;\n",
       "    }\n",
       "\n",
       "    .dataframe thead th {\n",
       "        text-align: right;\n",
       "    }\n",
       "</style>\n",
       "<table border=\"1\" class=\"dataframe\">\n",
       "  <thead>\n",
       "    <tr style=\"text-align: right;\">\n",
       "      <th></th>\n",
       "      <th>time</th>\n",
       "      <th>vdd!</th>\n",
       "      <th>A</th>\n",
       "      <th>Q</th>\n",
       "      <th>V0:p</th>\n",
       "      <th>V1:p</th>\n",
       "    </tr>\n",
       "  </thead>\n",
       "  <tbody>\n",
       "    <tr>\n",
       "      <th>0</th>\n",
       "      <td>0.000000e+00</td>\n",
       "      <td>1.8</td>\n",
       "      <td>0.0</td>\n",
       "      <td>1.799999</td>\n",
       "      <td>0.000000e+00</td>\n",
       "      <td>-2.505777e-10</td>\n",
       "    </tr>\n",
       "    <tr>\n",
       "      <th>1</th>\n",
       "      <td>1.200000e-11</td>\n",
       "      <td>1.8</td>\n",
       "      <td>0.0</td>\n",
       "      <td>1.799999</td>\n",
       "      <td>-1.075800e-18</td>\n",
       "      <td>-2.505777e-10</td>\n",
       "    </tr>\n",
       "    <tr>\n",
       "      <th>2</th>\n",
       "      <td>3.600000e-11</td>\n",
       "      <td>1.8</td>\n",
       "      <td>0.0</td>\n",
       "      <td>1.799999</td>\n",
       "      <td>-1.082460e-18</td>\n",
       "      <td>-2.505777e-10</td>\n",
       "    </tr>\n",
       "    <tr>\n",
       "      <th>3</th>\n",
       "      <td>8.400000e-11</td>\n",
       "      <td>1.8</td>\n",
       "      <td>0.0</td>\n",
       "      <td>1.799999</td>\n",
       "      <td>-9.536786e-19</td>\n",
       "      <td>-2.505777e-10</td>\n",
       "    </tr>\n",
       "    <tr>\n",
       "      <th>4</th>\n",
       "      <td>1.800000e-10</td>\n",
       "      <td>1.8</td>\n",
       "      <td>0.0</td>\n",
       "      <td>1.799999</td>\n",
       "      <td>-9.324533e-19</td>\n",
       "      <td>-2.505777e-10</td>\n",
       "    </tr>\n",
       "    <tr>\n",
       "      <th>...</th>\n",
       "      <td>...</td>\n",
       "      <td>...</td>\n",
       "      <td>...</td>\n",
       "      <td>...</td>\n",
       "      <td>...</td>\n",
       "      <td>...</td>\n",
       "    </tr>\n",
       "    <tr>\n",
       "      <th>228</th>\n",
       "      <td>1.154866e-08</td>\n",
       "      <td>1.8</td>\n",
       "      <td>1.8</td>\n",
       "      <td>0.026629</td>\n",
       "      <td>-2.156757e-08</td>\n",
       "      <td>-3.923858e-08</td>\n",
       "    </tr>\n",
       "    <tr>\n",
       "      <th>229</th>\n",
       "      <td>1.166866e-08</td>\n",
       "      <td>1.8</td>\n",
       "      <td>1.8</td>\n",
       "      <td>0.021853</td>\n",
       "      <td>-1.779283e-08</td>\n",
       "      <td>-3.236806e-08</td>\n",
       "    </tr>\n",
       "    <tr>\n",
       "      <th>230</th>\n",
       "      <td>1.178866e-08</td>\n",
       "      <td>1.8</td>\n",
       "      <td>1.8</td>\n",
       "      <td>0.017917</td>\n",
       "      <td>-1.465093e-08</td>\n",
       "      <td>-2.666840e-08</td>\n",
       "    </tr>\n",
       "    <tr>\n",
       "      <th>231</th>\n",
       "      <td>1.190866e-08</td>\n",
       "      <td>1.8</td>\n",
       "      <td>1.8</td>\n",
       "      <td>0.014679</td>\n",
       "      <td>-1.204557e-08</td>\n",
       "      <td>-2.195422e-08</td>\n",
       "    </tr>\n",
       "    <tr>\n",
       "      <th>232</th>\n",
       "      <td>1.200000e-08</td>\n",
       "      <td>1.8</td>\n",
       "      <td>1.8</td>\n",
       "      <td>0.012613</td>\n",
       "      <td>-1.037329e-08</td>\n",
       "      <td>-1.893559e-08</td>\n",
       "    </tr>\n",
       "  </tbody>\n",
       "</table>\n",
       "<p>233 rows × 6 columns</p>\n",
       "</div>"
      ],
      "text/plain": [
       "             time  vdd!    A         Q          V0:p          V1:p\n",
       "0    0.000000e+00   1.8  0.0  1.799999  0.000000e+00 -2.505777e-10\n",
       "1    1.200000e-11   1.8  0.0  1.799999 -1.075800e-18 -2.505777e-10\n",
       "2    3.600000e-11   1.8  0.0  1.799999 -1.082460e-18 -2.505777e-10\n",
       "3    8.400000e-11   1.8  0.0  1.799999 -9.536786e-19 -2.505777e-10\n",
       "4    1.800000e-10   1.8  0.0  1.799999 -9.324533e-19 -2.505777e-10\n",
       "..            ...   ...  ...       ...           ...           ...\n",
       "228  1.154866e-08   1.8  1.8  0.026629 -2.156757e-08 -3.923858e-08\n",
       "229  1.166866e-08   1.8  1.8  0.021853 -1.779283e-08 -3.236806e-08\n",
       "230  1.178866e-08   1.8  1.8  0.017917 -1.465093e-08 -2.666840e-08\n",
       "231  1.190866e-08   1.8  1.8  0.014679 -1.204557e-08 -2.195422e-08\n",
       "232  1.200000e-08   1.8  1.8  0.012613 -1.037329e-08 -1.893559e-08\n",
       "\n",
       "[233 rows x 6 columns]"
      ]
     },
     "execution_count": 6,
     "metadata": {},
     "output_type": "execute_result"
    }
   ],
   "source": [
    "df = pd.read_pickle('./results/sim_INHDX0_0.pkl')\n",
    "\n",
    "df"
   ]
  },
  {
   "cell_type": "code",
   "execution_count": 7,
   "id": "08a044b0",
   "metadata": {},
   "outputs": [
    {
     "data": {
      "text/plain": [
       "<Axes: xlabel='time'>"
      ]
     },
     "execution_count": 7,
     "metadata": {},
     "output_type": "execute_result"
    },
    {
     "data": {
      "image/png": "[encoded data removed]",
      "text/plain": [
       "<Figure size 640x480 with 1 Axes>"
      ]
     },
     "metadata": {},
     "output_type": "display_data"
    }
   ],
   "source": [
    "df.plot.line(x='time', y=[\"A\", \"Q\"])"
   ]
  }
 ],
 "metadata": {
  "kernelspec": {
   "display_name": "orchard",
   "language": "python",
   "name": "python3"
  },
  "language_info": {
   "codemirror_mode": {
    "name": "ipython",
    "version": 3
   },
   "file_extension": ".py",
   "mimetype": "text/x-python",
   "name": "python",
   "nbconvert_exporter": "python",
   "pygments_lexer": "ipython3",
   "version": "3.11.11"
  }
 },
 "nbformat": 4,
 "nbformat_minor": 5
}
