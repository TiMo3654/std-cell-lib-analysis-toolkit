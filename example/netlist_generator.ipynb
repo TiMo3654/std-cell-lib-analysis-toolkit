{
 "cells": [
  {
   "cell_type": "code",
   "execution_count": 1,
   "id": "a49dd712",
   "metadata": {},
   "outputs": [],
   "source": [
    "from liberty.parser import parse_liberty\n",
    "from liberty.types import *\n",
    "import numpy as np\n",
    "import sys\n",
    "\n",
    "from std_lib_tk.util import *\n",
    "from std_lib_tk.combinatorial import *\n",
    "from std_lib_tk.sequential import *"
   ]
  },
  {
   "cell_type": "code",
   "execution_count": 2,
   "id": "09513ed5",
   "metadata": {},
   "outputs": [],
   "source": [
    "lib = parse_liberty(open(\"./../data/D_CELLS_HD_LP5MOS_slow_1_08V_175C.lib\").read())"
   ]
  },
  {
   "cell_type": "markdown",
   "id": "28d7bf11",
   "metadata": {},
   "source": [
    "### Testbenches for Combinatorial cells"
   ]
  },
  {
   "cell_type": "code",
   "execution_count": 3,
   "id": "e86ee7fd",
   "metadata": {},
   "outputs": [],
   "source": [
    "posedge_flip_flops      = {str(cell.args[0]).strip('\"') for cell in lib.get_groups('cell') if 'Flip-Flop' in attribute2dict(cell.attributes)['cell_description'] and 'posedge' in attribute2dict(cell.attributes)['cell_description'] and ('Scan' not in attribute2dict(cell.attributes)['cell_description'])}\n",
    "\n",
    "negedge_flip_flops      = {str(cell.args[0]).strip('\"') for cell in lib.get_groups('cell') if 'Flip-Flop' in attribute2dict(cell.attributes)['cell_description'] and 'negedge' in attribute2dict(cell.attributes)['cell_description']}\n",
    "\n",
    "adder                   = {str(cell.args[0]).strip('\"') for cell in lib.get_groups('cell') if 'Adder' in attribute2dict(cell.attributes)['cell_description']}\n",
    "\n",
    "muxer                   = {str(cell.args[0]).strip('\"') for cell in lib.get_groups('cell') if 'Multiplexer' in attribute2dict(cell.attributes)['cell_description']}\n",
    "\n",
    "logic                   = {str(cell.args[0]).strip('\"') for cell in lib.get_groups('cell')\n",
    "                            if 'AND' in attribute2dict(cell.attributes)['cell_description'] \n",
    "                            or 'OR' in attribute2dict(cell.attributes)['cell_description'] \n",
    "                            or (('Buffer' in attribute2dict(cell.attributes)['cell_description']) and ('latch' not in attribute2dict(cell.attributes)['cell_description']) and ('Clock' not in attribute2dict(cell.attributes)['cell_description']) and ('Tristate' not in attribute2dict(cell.attributes)['cell_description']))\n",
    "                            or ('Inverter' in attribute2dict(cell.attributes)['cell_description'] and ('Tristate' not in attribute2dict(cell.attributes)['cell_description']))\n",
    "                            } "
   ]
  },
  {
   "cell_type": "code",
   "execution_count": 4,
   "id": "d39adc9a",
   "metadata": {},
   "outputs": [],
   "source": [
    "cells = [select_cell(lib, name) for name in logic if not name.startswith(\"BUSSHD\")] # remove dont use cell"
   ]
  },
  {
   "cell_type": "code",
   "execution_count": 5,
   "id": "d0128d93",
   "metadata": {},
   "outputs": [],
   "source": [
    "path = \"./netlists/tb_\"\n",
    "\n",
    "# Testbenches for all cells in logic\n",
    "\n",
    "# for cell in cells:\n",
    "\n",
    "#     write_cell_testbench(cell=cell, v_sup=0.8, temperature=175, tran_time=12e-9, path=path) \n",
    "\n",
    "cell = select_cell(lib, \"INHDX0\")\n",
    "\n",
    "write_cell_testbench(cell=cell, v_sup=1.8, temperature=175, tran_time=12e-9, path=path)"
   ]
  },
  {
   "cell_type": "markdown",
   "id": "0fa3e4d5",
   "metadata": {},
   "source": [
    "### Testbenches for Sequential Cells"
   ]
  },
  {
   "cell_type": "code",
   "execution_count": 6,
   "id": "525a45fd",
   "metadata": {},
   "outputs": [],
   "source": [
    "cell = select_cell(lib, \"DFRRHDX1\")\n",
    "\n",
    "pins = get_ff_pins(cell)\n",
    "\n",
    "vs = create_ff_sources(  data_in=\"D0\"\n",
    "                       , pins=pins\n",
    "                       , v_high=1.8\n",
    "                       , v_low=0.0\n",
    "                       , data_rise=1e-12\n",
    "                       , data_fall=1e-12\n",
    "                       , data_delay=10e-9\n",
    "                       , data_period=2\n",
    "                       , data_width=1\n",
    "                       , clk_rise= 1e-12\n",
    "                       , clk_fall=1e-12\n",
    "                       , clk_delay=2e-9\n",
    "                       , clk_width=50e-9\n",
    "                       , clk_period=100e-9\n",
    "                       )"
   ]
  },
  {
   "cell_type": "code",
   "execution_count": 7,
   "id": "5cfbd613",
   "metadata": {},
   "outputs": [],
   "source": [
    "netlist = generate_ff_netlist(pins + [\"0\", \"vdd!\"], \"DFRRHDX1\", vs, 1e-15, 125, 500e-9)"
   ]
  },
  {
   "cell_type": "code",
   "execution_count": 8,
   "id": "e212f59b",
   "metadata": {},
   "outputs": [],
   "source": [
    "with open(\"./netlists/tb_DFRRHDX1.scs\", \"w\") as file:\n",
    "    file.write(netlist)"
   ]
  }
 ],
 "metadata": {
  "kernelspec": {
   "display_name": "orchard",
   "language": "python",
   "name": "python3"
  },
  "language_info": {
   "codemirror_mode": {
    "name": "ipython",
    "version": 3
   },
   "file_extension": ".py",
   "mimetype": "text/x-python",
   "name": "python",
   "nbconvert_exporter": "python",
   "pygments_lexer": "ipython3",
   "version": "3.11.11"
  }
 },
 "nbformat": 4,
 "nbformat_minor": 5
}
